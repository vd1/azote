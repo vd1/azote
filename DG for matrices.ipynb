{
 "cells": [
  {
   "cell_type": "code",
   "execution_count": null,
   "metadata": {},
   "outputs": [],
   "source": [
    "# solve theta * A = B by GD\n",
    "import numpy as np\n",
    "np.random.seed(42)"
   ]
  },
  {
   "cell_type": "code",
   "execution_count": null,
   "metadata": {},
   "outputs": [],
   "source": [
    "n = 400\n",
    "m = 400\n",
    "l = 400"
   ]
  },
  {
   "cell_type": "code",
   "execution_count": null,
   "metadata": {},
   "outputs": [],
   "source": [
    "B = np.random.randn(m,n)\n",
    "A = np.random.randn(l,n)\n",
    "theta_0 = np.random.randn(m,l)"
   ]
  },
  {
   "cell_type": "markdown",
   "metadata": {},
   "source": [
    "$\\nabla s(\\theta)= (\\theta A - B)A^T$"
   ]
  },
  {
   "cell_type": "code",
   "execution_count": null,
   "metadata": {},
   "outputs": [],
   "source": [
    "def gdm(theta_zero = theta_0,n_iterations=100,eta=0.5):\n",
    "    res = []\n",
    "    theta = theta_zero\n",
    "    for iteration in range(n_iterations):\n",
    "        C = (theta.dot(A) - B)\n",
    "        gradient = C.dot(A.T)\n",
    "        theta = theta - eta * gradient\n",
    "        #res.append(np.linalg.norm(C)\n",
    "    return theta,res"
   ]
  },
  {
   "cell_type": "code",
   "execution_count": null,
   "metadata": {},
   "outputs": [],
   "source": [
    "def gdm_d():\n",
    "    res = []\n",
    "    theta_d = B.dot(np.linalg.inv(A))\n",
    "    res_d = np.linalg.norm(theta_d.dot(A) - B)\n",
    "    return theta_d, res_d\n",
    "\n"
   ]
  },
  {
   "cell_type": "code",
   "execution_count": 6,
   "metadata": {},
   "outputs": [
    {
     "name": "stdout",
     "output_type": "stream",
     "text": [
      "[[ 0.04692227 -0.10532704 -0.06672739 ...,  0.08942891  0.12859809\n",
      "   0.14180712]\n",
      " [ 0.11957875  0.10599817  0.07123196 ...,  0.14715945 -0.12206712\n",
      "  -0.09240401]\n",
      " [ 0.22774075  0.15679574 -0.10193155 ..., -0.47856392 -0.21867134\n",
      "   0.02708542]\n",
      " ..., \n",
      " [-0.29337507 -0.02283897 -0.03720139 ...,  0.17475536  0.13752073\n",
      "   0.16872495]\n",
      " [ 0.24693376  0.08795665  0.11024575 ..., -0.22627982 -0.13345472\n",
      "  -0.05544727]\n",
      " [-0.26575537  0.1064765  -0.07097849 ...,  0.0357784  -0.07410827\n",
      "  -0.28794911]] 62.8348176713\n"
     ]
    }
   ],
   "source": [
    "#%%timeit\n",
    "t,r = gdm(n_iterations=1000,eta=0.001)\n",
    "t = t.dot(A) - B\n",
    "print(t, np.linalg.norm(t))"
   ]
  },
  {
   "cell_type": "code",
   "execution_count": 7,
   "metadata": {},
   "outputs": [
    {
     "name": "stdout",
     "output_type": "stream",
     "text": [
      "[[ -2.60902411e-13  -5.46784840e-14   3.91686683e-13 ...,  -1.45439216e-13\n",
      "   -5.13325493e-13  -2.29372077e-13]\n",
      " [  3.48165941e-13   2.70450329e-13   1.55546583e-13 ...,  -6.13953333e-14\n",
      "    4.08454520e-13  -2.62574684e-13]\n",
      " [ -8.45989945e-14  -8.50430837e-14  -1.73028258e-13 ...,  -1.28563826e-13\n",
      "    3.51940699e-14   3.29736238e-13]\n",
      " ..., \n",
      " [ -9.81437154e-14  -1.46105350e-13  -5.73097125e-13 ...,   1.88654647e-13\n",
      "    1.99618100e-13  -1.96787031e-14]\n",
      " [ -1.43662859e-13  -2.65565347e-13  -5.50670620e-14 ...,  -2.50521826e-13\n",
      "    4.95159469e-14  -1.04888320e-13]\n",
      " [  3.26572103e-13   7.92699240e-14  -5.18474152e-14 ...,  -9.21485110e-14\n",
      "    5.96189764e-14   2.04281037e-13]] 1.05778770227e-10\n"
     ]
    }
   ],
   "source": [
    "#%%timeit\n",
    "t2, r2 = gdm_d()\n",
    "t2 = t2.dot(A) - B\n",
    "print(t2,r2)"
   ]
  },
  {
   "cell_type": "code",
   "execution_count": null,
   "metadata": {},
   "outputs": [],
   "source": []
  }
 ],
 "metadata": {
  "kernelspec": {
   "display_name": "Python 3",
   "language": "python",
   "name": "python3"
  },
  "language_info": {
   "codemirror_mode": {
    "name": "ipython",
    "version": 3
   },
   "file_extension": ".py",
   "mimetype": "text/x-python",
   "name": "python",
   "nbconvert_exporter": "python",
   "pygments_lexer": "ipython3",
   "version": "3.6.4"
  }
 },
 "nbformat": 4,
 "nbformat_minor": 2
}
